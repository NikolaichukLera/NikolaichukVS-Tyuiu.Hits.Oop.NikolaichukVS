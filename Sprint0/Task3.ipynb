{
 "cells": [
  {
   "cell_type": "markdown",
   "metadata": {},
   "source": [
    "<h1 style=\"color:DodgerBlue\">Индивидальный проект</h1>"
   ]
  },
  {
   "cell_type": "markdown",
   "metadata": {},
   "source": [
    "<h2 style=\"color:DodgerBlue\">Название проекта:</h2>\n",
    "\n",
    "Информация об обучающихся\n",
    "\n",
    "### Вариант задания 2\n"
   ]
  },
  {
   "cell_type": "markdown",
   "metadata": {},
   "source": [
    "<h2 style=\"color:DodgerBlue\">Описание проекта:</h2>\n",
    "\n",
    "Описание задачи:\n",
    "Создать базовый класс Student в C#, который будет представлять информацию о\n",
    "студентах. На основе этого класса разработать 2-3 производных класса,\n",
    "демонстрирующих принципы наследования и полиморфизма. В каждом из классов\n",
    "должны быть реализованы новые атрибуты и методы, а также переопределены\n",
    "некоторые методы базового класса для демонстрации полиморфизма.\n",
    "Требования к базовому классу Student:\n",
    "• Атрибуты: Имя (Name), Возраст (Age), Курс (Course).\n",
    "• Методы:\n",
    "o GetInfo(): метод для получения информации о студенте в виде строки.\n",
    "o Study(): метод для вывода сообщения о том, что студент учится.\n",
    "o TakeExam(): метод для вывода сообщения о сдаче экзамена.\n",
    "Требования к производным классам:\n",
    "1. Студент бакалавриата (BachelorStudent): Должен содержать дополнительные\n",
    "атрибуты, такие как Специальность (Specialty). Метод Study() должен быть\n",
    "переопределен для добавления информации о специальности при изучении\n",
    "предмета.\n",
    "2. Студент магистратуры (MasterStudent): Должен содержать дополнительные\n",
    "атрибуты, такие как Научный руководитель (ScientificAdvisor).\n",
    "Метод TakeExam() должен быть переопределен для добавления\n",
    "информации о научном руководителе при сдаче экзамена.\n",
    "3. Аспирант (PhDStudent) (если требуется третий класс): Должен содержать\n",
    "дополнительные атрибуты, такие как Тема диссертации (DissertationTopic).\n",
    "Метод Study() должен быть переопределен для добавления информации о\n",
    "теме диссертации при изучении предмета.\n",
    "[ваш текст]\n"
   ]
  },
  {
   "cell_type": "markdown",
   "metadata": {},
   "source": [
    "<h2 style=\"color:DodgerBlue\">Реализация:</h2>\n",
    "\n",
    "----"
   ]
  },
  {
   "cell_type": "code",
   "execution_count": 2,
   "metadata": {
    "dotnet_interactive": {
     "language": "csharp"
    },
    "polyglot_notebook": {
     "kernelName": "csharp"
    }
   },
   "outputs": [
    {
     "name": "stdout",
     "output_type": "stream",
     "text": [
      "Елизавета Сикачева учится по специальности Интеллектуальные системы в гуманитарной сфере.\n",
      "Имя: Елизавета Сикачева, возраст: 19, курс: 2,  специальность: Интеллектуальные системы в гуманитарной сфере\n",
      "Елизавета Сикачева сдаёт экзамен\n",
      "-------------------------------------\n",
      "Виктория Лупандина учится.\n",
      "Имя: Виктория Лупандина, возраст: 20, курс: 1, научный руководитель Вадим Олегович\n",
      "Виктория Лупандина сдаёт экзамен у научного руководителя Вадим Олегович, \n",
      "-------------------------------------\n",
      "Вадим Шаптала работает над диссертацией: Разработка и веб-дизайн,\n",
      "Имя: Вадим Шаптала, возраст: 21, курс: 3,  тема диссертации: Разработка и веб-дизайн\n",
      "Вадим Шаптала сдаёт экзамен\n"
     ]
    }
   ],
   "source": [
    "\n",
    "public class Student\n",
    "{\n",
    "    public string Name { get; set; }\n",
    "    public int Age { get; set; }\n",
    "    public int Course { get; set; }\n",
    "\n",
    "    public Student(string name, int age, int course)\n",
    "    {\n",
    "        Name = name;\n",
    "        Age = age;\n",
    "        Course = course;\n",
    "    }\n",
    "\n",
    "    public virtual string GetInfo()\n",
    "    {\n",
    "        return $\"Имя: {Name}, возраст: {Age}, курс: {Course}, \";\n",
    "    }\n",
    "\n",
    "    public virtual void Study()\n",
    "    {\n",
    "        Console.WriteLine($\"{Name} учится.\");\n",
    "    }\n",
    "\n",
    "    public virtual void TakeExam()\n",
    "    {\n",
    "        Console.WriteLine($\"{Name} сдаёт экзамен\");\n",
    "    }\n",
    "}\n",
    "\n",
    "class BachelorStudent : Student\n",
    "{\n",
    "    public string Speciality { get; set; }\n",
    "\n",
    "    public BachelorStudent(string name, int age, int course, string speciality)\n",
    "        :base(name, age, course)\n",
    "        {\n",
    "            Speciality = speciality;\n",
    "        }\n",
    "        \n",
    "    public override void Study()\n",
    "    {\n",
    "        Console.WriteLine($\"{Name} учится по специальности {Speciality}.\");\n",
    "    }\n",
    "\n",
    "    public override string GetInfo()\n",
    "    {\n",
    "        return base.GetInfo() + $\" специальность: {Speciality}\";\n",
    "    }\n",
    "}\n",
    "\n",
    "class MasterStudent : Student\n",
    "{\n",
    "    public string ScientificAdvisor { get; set; }\n",
    "\n",
    "    public MasterStudent(string name, int age, int course, string advisor)\n",
    "        :base(name, age, course)\n",
    "        {\n",
    "            ScientificAdvisor = advisor;\n",
    "        }\n",
    "\n",
    "    public override void TakeExam()\n",
    "    {\n",
    "        Console.WriteLine($\"{Name} сдаёт экзамен у научного руководителя {ScientificAdvisor}, \");\n",
    "    }\n",
    "\n",
    "    public override string GetInfo()\n",
    "    {\n",
    "        return base.GetInfo() + $\"научный руководитель {ScientificAdvisor}\";  \n",
    "    }\n",
    "\n",
    "}\n",
    "\n",
    "class PhDStudent : Student\n",
    "{\n",
    "    public string DissertationTopic { get; set; }\n",
    "\n",
    "    public PhDStudent(string name, int age, int course, string topic)\n",
    "        : base(name, age, course)\n",
    "        {\n",
    "            DissertationTopic = topic;\n",
    "        }\n",
    "\n",
    "    public override void Study()\n",
    "    {\n",
    "        Console.WriteLine($\"{Name} работает над диссертацией: {DissertationTopic},\");\n",
    "    }\n",
    "\n",
    "    public override string GetInfo()\n",
    "    {\n",
    "        return base.GetInfo() +$\" тема диссертации: {DissertationTopic}\";\n",
    "    }\n",
    "}\n",
    "\n",
    "BachelorStudent bachelor = new BachelorStudent(\"Елизавета Сикачева\", 19, 2, \"Интеллектуальные системы в гуманитарной сфере\");\n",
    "MasterStudent master = new MasterStudent(\"Виктория Лупандина\", 20, 1, \"Вадим Олегович\");\n",
    "PhDStudent phds = new PhDStudent(\"Вадим Шаптала\", 21, 3, \"Разработка и веб-дизайн\");\n",
    "\n",
    "bachelor.Study();\n",
    "Console.WriteLine(bachelor.GetInfo());\n",
    "bachelor.TakeExam();\n",
    "\n",
    "Console.WriteLine(\"-------------------------------------\");\n",
    "\n",
    "master.Study();\n",
    "Console.WriteLine(master.GetInfo());\n",
    "master.TakeExam();\n",
    "\n",
    "Console.WriteLine(\"-------------------------------------\");\n",
    "\n",
    "phds.Study();\n",
    "Console.WriteLine(phds.GetInfo());\n",
    "phds.TakeExam();"
   ]
  }
 ],
 "metadata": {
  "kernelspec": {
   "display_name": ".NET (C#)",
   "language": "C#",
   "name": ".net-csharp"
  },
  "polyglot_notebook": {
   "kernelInfo": {
    "defaultKernelName": "csharp",
    "items": [
     {
      "aliases": [],
      "languageName": "csharp",
      "name": "csharp"
     }
    ]
   }
  }
 },
 "nbformat": 4,
 "nbformat_minor": 2
}
